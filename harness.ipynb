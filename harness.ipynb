{
 "cells": [
  {
   "cell_type": "code",
   "execution_count": 26,
   "metadata": {},
   "outputs": [],
   "source": [
    "import numpy as np\n",
    "import math\n",
    "import cv2\n",
    "import matplotlib.pyplot as plt\n",
    "import glob\n",
    "from sklearn.preprocessing import normalize\n",
    "import pandas as pd\n",
    "%matplotlib inline"
   ]
  },
  {
   "cell_type": "code",
   "execution_count": 27,
   "metadata": {},
   "outputs": [
    {
     "name": "stdout",
     "output_type": "stream",
     "text": [
      "['Videos\\\\high-score-cat.mp4', 'Videos\\\\lowscore-cat.mp4', 'Videos\\\\medium-scoree-cat.mp4']\n"
     ]
    }
   ],
   "source": [
    "videosArray = glob.glob(\"Videos/*.mp4\")\n",
    "videosHeadSizeRatio = np.array([0.044,0.249,0.024]) #head size (circle) / image size \n",
    "videosHeadSizeRelativeRatio = np.array([2,10,1]) #consider lowest ratio as a baseline (scalar=1 for the last video in the array) - the rest are ratio relative to the baseline \n",
    "videosScore = np.zeros_like(videosArray)\n",
    "\n",
    "print(videosArray)\n"
   ]
  },
  {
   "cell_type": "code",
   "execution_count": 28,
   "metadata": {},
   "outputs": [],
   "source": [
    "def calculateMovements(cap,ratio_scalar,method):\n",
    "    if cap.isOpened() == False:\n",
    "        print(\"error, file not found\")\n",
    "        return 0\n",
    "    videoLength = int(cap.get(cv2.CAP_PROP_FRAME_COUNT))\n",
    "    mag_data = np.empty(videoLength)\n",
    "    res, frame1 = cap.read()\n",
    "    prvsImg = cv2.cvtColor(frame1,cv2.COLOR_BGR2GRAY)\n",
    "    prevFlow = None\n",
    "    i = 0\n",
    "    movementThreshold = 10 #this is base number for movement based on some experiments. This is still an open question\n",
    "    #2a - bigger object --> we need bigger threadhold to consider movement \n",
    "    if method == '2a':\n",
    "        if ratio_scalar < 1: #by head size ratio\n",
    "            movementThreshold += round(ratio_scalar*100) #we must have big threshold for big head. for 0.24 head size ratio, threshold will become 34 - 24 + base threshold of 10.\n",
    "        else:\n",
    "            movementThreshold += ratio_scalar*4 #by head relative size + some factor. we need to come up with a better way to distinguish between the values \n",
    "    while True:\n",
    "        frameExists, frame2 = cap.read()\n",
    "        if not frameExists:\n",
    "            break\n",
    "        nextImg = cv2.cvtColor(frame2,cv2.COLOR_BGR2GRAY)\n",
    "        flow = cv2.calcOpticalFlowFarneback(prvsImg,nextImg, None, 0.5, 3, 15, 3, 5, 1.2, 0) #default recommended params\n",
    "        mag, _ = cv2.cartToPolar(flow[:,:,0], flow[:,:,1],angleInDegrees=True) #convert into polar form\n",
    "        mag = np.nan_to_num(mag) #replace NaN's with 0's and inf with large numbers\n",
    "        mag_dist_1d = pd.DataFrame(mag.flatten()) #turn into 1d dataframe\n",
    "        number_of_mag_cells = mag_dist_1d.count().get(0)       \n",
    "        #2b - normolize mag values\n",
    "        if method == '2b':\n",
    "            if ratio_scalar < 1: #by head size ratio\n",
    "                mag_dist_1d *= ratio_scalar #reducing values \n",
    "            else:\n",
    "                mag_dist_1d *= 1-(1.0/ratio_scalar) #for ratio_scalar 10 (low score cat with big head), we will get 0.9. for smallar cats, we will get smallar values. just like head size scalar \n",
    "        if number_of_mag_cells > 0:\n",
    "            precentageOfMovment = mag_dist_1d[mag_dist_1d[0] > movementThreshold].count().get(0)/number_of_mag_cells\n",
    "            #2c - normolize the precentage of movement \n",
    "            if method == '2c':\n",
    "                if ratio_scalar < 1:\n",
    "                    precentageOfMovment *= ratio_scalar\n",
    "                else:\n",
    "                    precentageOfMovment *= 1-(1.0/ratio_scalar)\n",
    "        else: \n",
    "            precentageOfMovment = 0.0\n",
    "        mag_data[i] = precentageOfMovment\n",
    "        prevImg = nextImg\n",
    "        i += 1\n",
    "    #remove righthand outliters\n",
    "    mag_data = np.nan_to_num(mag_data)\n",
    "    mag_data = removeOutliers(mag_data)\n",
    "    return  mag_data,movementThreshold"
   ]
  },
  {
   "cell_type": "code",
   "execution_count": 29,
   "metadata": {},
   "outputs": [],
   "source": [
    "def normalizeArray(arr): \n",
    "    maxi = arr.max()\n",
    "    if maxi == 0:\n",
    "        return arr\n",
    "    for i in range(len(arr)):\n",
    "        arr[i] = float(float(arr[i])/float(maxi))\n",
    "    return arr\n",
    "        "
   ]
  },
  {
   "cell_type": "code",
   "execution_count": 30,
   "metadata": {},
   "outputs": [],
   "source": [
    "def removeOutliers(mag_data):\n",
    "    arr_mean = np.mean(mag_data)\n",
    "    arr_std = np.std(mag_data)\n",
    "#     print(\"mean is \" + str(arr_mean))\n",
    "#     print(\"std is \" + str(arr_std))\n",
    "    final_mag_data = mag_data #temp\n",
    "    final_mag_data = [x for x in mag_data if (x < arr_mean + 3*arr_std)]\n",
    "    return final_mag_data"
   ]
  },
  {
   "cell_type": "code",
   "execution_count": 31,
   "metadata": {},
   "outputs": [],
   "source": [
    "def plotMov(dist,plot_strategy):\n",
    "    positions = np.arange(len(dist))\n",
    "    axes = plt.gca()\n",
    "    if plot_strategy == 1: #show everything on the same scale \n",
    "        axes.set_ylim([0,0.5])\n",
    "    plt.bar(x=positions, height=dist, width=1)\n",
    "    plt.show()\n",
    "# plt.hist(dist, bins=10)"
   ]
  },
  {
   "cell_type": "code",
   "execution_count": 32,
   "metadata": {},
   "outputs": [],
   "source": [
    "#return precentage of movements along the video. movements defined as diff between frames bigger than alpha\n",
    "def calculateScore(dist,alpha):\n",
    "#     return float(np.count_nonzero((dist > alpha)/float(dist.size)))\n",
    "    return np.sum(dist)\n"
   ]
  },
  {
   "cell_type": "code",
   "execution_count": 33,
   "metadata": {},
   "outputs": [],
   "source": [
    "def run(videos_array,ratios_array,method,plot_strategy=0):\n",
    "    for i in range(len(videos_array)):\n",
    "        cap = cv2.VideoCapture(videos_array[i])\n",
    "        mag_dist, used_threshold = calculateMovements(cap,float(ratios_array[i]),method)\n",
    "        print(\"\\n plotting for \"+ videos_array[i] + \" with ratio \" + str(ratios_array[i]) + \" with threshold \" + str(used_threshold))\n",
    "        plotMov(mag_dist,plot_strategy)\n",
    "    print('***************************************************')\n",
    "    #later, we will use score function to priorotize videos\n",
    "#         score = calculateScore(maxiData,0.1)\n",
    "#         videosScore[i] = score"
   ]
  },
  {
   "cell_type": "markdown",
   "metadata": {},
   "source": [
    "# Using 2a method with head size ratio"
   ]
  },
  {
   "cell_type": "code",
   "execution_count": 34,
   "metadata": {},
   "outputs": [
    {
     "name": "stdout",
     "output_type": "stream",
     "text": [
      "\n",
      " plotting for Videos\\high-score-cat.mp4 with ratio 0.044 with threshold 14\n"
     ]
    },
    {
     "data": {
      "image/png": "[encoded data removed]",
      "text/plain": [
       "<Figure size 432x288 with 1 Axes>"
      ]
     },
     "metadata": {
      "needs_background": "light"
     },
     "output_type": "display_data"
    },
    {
     "name": "stdout",
     "output_type": "stream",
     "text": [
      "\n",
      " plotting for Videos\\lowscore-cat.mp4 with ratio 0.249 with threshold 35\n"
     ]
    },
    {
     "data": {
      "image/png": "[encoded data removed]",
      "text/plain": [
       "<Figure size 432x288 with 1 Axes>"
      ]
     },
     "metadata": {
      "needs_background": "light"
     },
     "output_type": "display_data"
    },
    {
     "name": "stdout",
     "output_type": "stream",
     "text": [
      "\n",
      " plotting for Videos\\medium-scoree-cat.mp4 with ratio 0.024 with threshold 12\n"
     ]
    },
    {
     "data": {
      "image/png": "[encoded data removed]",
      "text/plain": [
       "<Figure size 432x288 with 1 Axes>"
      ]
     },
     "metadata": {
      "needs_background": "light"
     },
     "output_type": "display_data"
    },
    {
     "name": "stdout",
     "output_type": "stream",
     "text": [
      "***************************************************\n"
     ]
    }
   ],
   "source": [
    "run(videosArray,videosHeadSizeRatio,'2a')"
   ]
  },
  {
   "cell_type": "markdown",
   "metadata": {},
   "source": [
    "# Using 2b method with head size ratio"
   ]
  },
  {
   "cell_type": "code",
   "execution_count": 35,
   "metadata": {},
   "outputs": [],
   "source": [
    "#run(videosArray,videosHeadSizeRatio,'2b') - this method is not working. the mag vlaues become really small (less than 2) and \n",
    "#                                           when we count the precentage of movement (for instance cells above 10, we get 0)"
   ]
  },
  {
   "cell_type": "markdown",
   "metadata": {},
   "source": [
    "# Using 2c method with head size ratio"
   ]
  },
  {
   "cell_type": "code",
   "execution_count": 36,
   "metadata": {},
   "outputs": [
    {
     "name": "stdout",
     "output_type": "stream",
     "text": [
      "\n",
      " plotting for Videos\\high-score-cat.mp4 with ratio 0.044 with threshold 10\n"
     ]
    },
    {
     "data": {
      "image/png": "[encoded data removed]",
      "text/plain": [
       "<Figure size 432x288 with 1 Axes>"
      ]
     },
     "metadata": {
      "needs_background": "light"
     },
     "output_type": "display_data"
    },
    {
     "name": "stdout",
     "output_type": "stream",
     "text": [
      "\n",
      " plotting for Videos\\lowscore-cat.mp4 with ratio 0.249 with threshold 10\n"
     ]
    },
    {
     "data": {
      "image/png": "[encoded data removed]",
      "text/plain": [
       "<Figure size 432x288 with 1 Axes>"
      ]
     },
     "metadata": {
      "needs_background": "light"
     },
     "output_type": "display_data"
    },
    {
     "name": "stdout",
     "output_type": "stream",
     "text": [
      "\n",
      " plotting for Videos\\medium-scoree-cat.mp4 with ratio 0.024 with threshold 10\n"
     ]
    },
    {
     "data": {
      "image/png": "[encoded data removed]",
      "text/plain": [
       "<Figure size 432x288 with 1 Axes>"
      ]
     },
     "metadata": {
      "needs_background": "light"
     },
     "output_type": "display_data"
    },
    {
     "name": "stdout",
     "output_type": "stream",
     "text": [
      "***************************************************\n"
     ]
    }
   ],
   "source": [
    "run(videosArray,videosHeadSizeRatio,'2c')"
   ]
  },
  {
   "cell_type": "markdown",
   "metadata": {},
   "source": [
    "# Using 2a method with relative head size"
   ]
  },
  {
   "cell_type": "code",
   "execution_count": 37,
   "metadata": {},
   "outputs": [
    {
     "name": "stdout",
     "output_type": "stream",
     "text": [
      "\n",
      " plotting for Videos\\high-score-cat.mp4 with ratio 2 with threshold 18.0\n"
     ]
    },
    {
     "data": {
      "image/png": "[encoded data removed]",
      "text/plain": [
       "<Figure size 432x288 with 1 Axes>"
      ]
     },
     "metadata": {
      "needs_background": "light"
     },
     "output_type": "display_data"
    },
    {
     "name": "stdout",
     "output_type": "stream",
     "text": [
      "\n",
      " plotting for Videos\\lowscore-cat.mp4 with ratio 10 with threshold 50.0\n"
     ]
    },
    {
     "data": {
      "image/png": "[encoded data removed]",
      "text/plain": [
       "<Figure size 432x288 with 1 Axes>"
      ]
     },
     "metadata": {
      "needs_background": "light"
     },
     "output_type": "display_data"
    },
    {
     "name": "stdout",
     "output_type": "stream",
     "text": [
      "\n",
      " plotting for Videos\\medium-scoree-cat.mp4 with ratio 1 with threshold 14.0\n"
     ]
    },
    {
     "data": {
      "image/png": "[encoded data removed]",
      "text/plain": [
       "<Figure size 432x288 with 1 Axes>"
      ]
     },
     "metadata": {
      "needs_background": "light"
     },
     "output_type": "display_data"
    },
    {
     "name": "stdout",
     "output_type": "stream",
     "text": [
      "***************************************************\n"
     ]
    }
   ],
   "source": [
    "run(videosArray,videosHeadSizeRelativeRatio,'2a')"
   ]
  },
  {
   "cell_type": "markdown",
   "metadata": {},
   "source": [
    "# Using 2b method with relative head size"
   ]
  },
  {
   "cell_type": "code",
   "execution_count": 38,
   "metadata": {},
   "outputs": [],
   "source": [
    "# run(videosArray,videosHeadSizeRelativeRatio,'2b')"
   ]
  },
  {
   "cell_type": "markdown",
   "metadata": {},
   "source": [
    "# Using 2c method with relative head size"
   ]
  },
  {
   "cell_type": "code",
   "execution_count": 39,
   "metadata": {},
   "outputs": [
    {
     "name": "stdout",
     "output_type": "stream",
     "text": [
      "\n",
      " plotting for Videos\\high-score-cat.mp4 with ratio 2 with threshold 10\n"
     ]
    },
    {
     "data": {
      "image/png": "[encoded data removed]",
      "text/plain": [
       "<Figure size 432x288 with 1 Axes>"
      ]
     },
     "metadata": {
      "needs_background": "light"
     },
     "output_type": "display_data"
    },
    {
     "name": "stdout",
     "output_type": "stream",
     "text": [
      "\n",
      " plotting for Videos\\lowscore-cat.mp4 with ratio 10 with threshold 10\n"
     ]
    },
    {
     "data": {
      "image/png": "[encoded data removed]",
      "text/plain": [
       "<Figure size 432x288 with 1 Axes>"
      ]
     },
     "metadata": {
      "needs_background": "light"
     },
     "output_type": "display_data"
    },
    {
     "name": "stdout",
     "output_type": "stream",
     "text": [
      "\n",
      " plotting for Videos\\medium-scoree-cat.mp4 with ratio 1 with threshold 10\n"
     ]
    },
    {
     "data": {
      "image/png": "[encoded data removed]",
      "text/plain": [
       "<Figure size 432x288 with 1 Axes>"
      ]
     },
     "metadata": {
      "needs_background": "light"
     },
     "output_type": "display_data"
    },
    {
     "name": "stdout",
     "output_type": "stream",
     "text": [
      "***************************************************\n"
     ]
    }
   ],
   "source": [
    "run(videosArray,videosHeadSizeRelativeRatio,'2c')"
   ]
  },
  {
   "cell_type": "markdown",
   "metadata": {},
   "source": [
    "# Using 2a method with head size ratio with same scale"
   ]
  },
  {
   "cell_type": "code",
   "execution_count": 40,
   "metadata": {},
   "outputs": [
    {
     "name": "stdout",
     "output_type": "stream",
     "text": [
      "\n",
      " plotting for Videos\\high-score-cat.mp4 with ratio 0.044 with threshold 14\n"
     ]
    },
    {
     "data": {
      "image/png": "[encoded data removed]",
      "text/plain": [
       "<Figure size 432x288 with 1 Axes>"
      ]
     },
     "metadata": {
      "needs_background": "light"
     },
     "output_type": "display_data"
    },
    {
     "name": "stdout",
     "output_type": "stream",
     "text": [
      "\n",
      " plotting for Videos\\lowscore-cat.mp4 with ratio 0.249 with threshold 35\n"
     ]
    },
    {
     "data": {
      "image/png": "[encoded data removed]",
      "text/plain": [
       "<Figure size 432x288 with 1 Axes>"
      ]
     },
     "metadata": {
      "needs_background": "light"
     },
     "output_type": "display_data"
    },
    {
     "name": "stdout",
     "output_type": "stream",
     "text": [
      "\n",
      " plotting for Videos\\medium-scoree-cat.mp4 with ratio 0.024 with threshold 12\n"
     ]
    },
    {
     "data": {
      "image/png": "[encoded data removed]",
      "text/plain": [
       "<Figure size 432x288 with 1 Axes>"
      ]
     },
     "metadata": {
      "needs_background": "light"
     },
     "output_type": "display_data"
    },
    {
     "name": "stdout",
     "output_type": "stream",
     "text": [
      "***************************************************\n"
     ]
    }
   ],
   "source": [
    "run(videosArray,videosHeadSizeRatio,'2a',1)"
   ]
  },
  {
   "cell_type": "markdown",
   "metadata": {},
   "source": [
    "# Using 2c method with head size ratio with same scale"
   ]
  },
  {
   "cell_type": "code",
   "execution_count": 41,
   "metadata": {},
   "outputs": [
    {
     "name": "stdout",
     "output_type": "stream",
     "text": [
      "\n",
      " plotting for Videos\\high-score-cat.mp4 with ratio 0.044 with threshold 10\n"
     ]
    },
    {
     "data": {
      "image/png": "[encoded data removed]",
      "text/plain": [
       "<Figure size 432x288 with 1 Axes>"
      ]
     },
     "metadata": {
      "needs_background": "light"
     },
     "output_type": "display_data"
    },
    {
     "name": "stdout",
     "output_type": "stream",
     "text": [
      "\n",
      " plotting for Videos\\lowscore-cat.mp4 with ratio 0.249 with threshold 10\n"
     ]
    },
    {
     "data": {
      "image/png": "[encoded data removed]",
      "text/plain": [
       "<Figure size 432x288 with 1 Axes>"
      ]
     },
     "metadata": {
      "needs_background": "light"
     },
     "output_type": "display_data"
    },
    {
     "name": "stdout",
     "output_type": "stream",
     "text": [
      "\n",
      " plotting for Videos\\medium-scoree-cat.mp4 with ratio 0.024 with threshold 10\n"
     ]
    },
    {
     "data": {
      "image/png": "[encoded data removed]",
      "text/plain": [
       "<Figure size 432x288 with 1 Axes>"
      ]
     },
     "metadata": {
      "needs_background": "light"
     },
     "output_type": "display_data"
    },
    {
     "name": "stdout",
     "output_type": "stream",
     "text": [
      "***************************************************\n"
     ]
    }
   ],
   "source": [
    "run(videosArray,videosHeadSizeRatio,'2c',1)"
   ]
  },
  {
   "cell_type": "code",
   "execution_count": 42,
   "metadata": {},
   "outputs": [],
   "source": [
    "#Sort results\n",
    "# videosAndScore = dict(zip(videosArray,videosScore))\n",
    "# {k: v for k, v in sorted(videosAndScore.items(), key=lambda item: item[1],reverse=True)}"
   ]
  }
 ],
 "metadata": {
  "kernelspec": {
   "display_name": "Python 3",
   "language": "python",
   "name": "python3"
  },
  "language_info": {
   "codemirror_mode": {
    "name": "ipython",
    "version": 3
   },
   "file_extension": ".py",
   "mimetype": "text/x-python",
   "name": "python",
   "nbconvert_exporter": "python",
   "pygments_lexer": "ipython3",
   "version": "3.6.6"
  }
 },
 "nbformat": 4,
 "nbformat_minor": 2
}
